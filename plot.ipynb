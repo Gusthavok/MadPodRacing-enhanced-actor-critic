{
 "cells": [
  {
   "cell_type": "code",
   "execution_count": 1,
   "metadata": {},
   "outputs": [
    {
     "name": "stderr",
     "output_type": "stream",
     "text": [
      "/Data/augustin.kheng/MadPodRacing-enhanced-actor-critic/main.py:147: FutureWarning: You are using `torch.load` with `weights_only=False` (the current default value), which uses the default pickle module implicitly. It is possible to construct malicious pickle data which will execute arbitrary code during unpickling (See https://github.com/pytorch/pytorch/blob/main/SECURITY.md#untrusted-models for more details). In a future release, the default value for `weights_only` will be flipped to `True`. This limits the functions that could be executed during unpickling. Arbitrary objects will no longer be allowed to be loaded via this mode unless they are explicitly allowlisted by the user via `torch.serialization.add_safe_globals`. We recommend you start setting `weights_only=True` for any use case where you don't have full control of the loaded file. Please open an issue on GitHub for any issues related to this experimental feature.\n",
      "  predictor_net.load_state_dict(torch.load('./models/predictor/version1/safetensor/test_cuda_mlp', map_location=device))\n"
     ]
    },
    {
     "name": "stdout",
     "output_type": "stream",
     "text": [
      "0 0\n",
      "0 0\n",
      "1 0\n",
      "0 0\n"
     ]
    },
    {
     "ename": "KeyboardInterrupt",
     "evalue": "",
     "output_type": "error",
     "traceback": [
      "\u001b[0;31m---------------------------------------------------------------------------\u001b[0m",
      "\u001b[0;31mKeyboardInterrupt\u001b[0m                         Traceback (most recent call last)",
      "Cell \u001b[0;32mIn[1], line 3\u001b[0m\n\u001b[1;32m      1\u001b[0m \u001b[38;5;28;01mfrom\u001b[39;00m \u001b[38;5;21;01mmain\u001b[39;00m \u001b[38;5;28;01mimport\u001b[39;00m main\n\u001b[0;32m----> 3\u001b[0m \u001b[43mmain\u001b[49m\u001b[43m(\u001b[49m\u001b[43m)\u001b[49m\n",
      "File \u001b[0;32m/Data/augustin.kheng/MadPodRacing-enhanced-actor-critic/main.py:239\u001b[0m, in \u001b[0;36mmain\u001b[0;34m()\u001b[0m\n\u001b[1;32m    236\u001b[0m state_adversaire \u001b[38;5;241m=\u001b[39m next_state_adversaire\n\u001b[1;32m    238\u001b[0m \u001b[38;5;28;01mif\u001b[39;00m regenerate_dataset\u001b[38;5;241m==\u001b[39m\u001b[38;5;241m0\u001b[39m \u001b[38;5;129;01mand\u001b[39;00m random\u001b[38;5;241m.\u001b[39mrand()\u001b[38;5;241m<\u001b[39mrate_training:\n\u001b[0;32m--> 239\u001b[0m     \u001b[43mtrain_models\u001b[49m\u001b[43m(\u001b[49m\u001b[43mmemory\u001b[49m\u001b[38;5;241;43m=\u001b[39;49m\u001b[43mmemory\u001b[49m\u001b[43m,\u001b[49m\u001b[43m \u001b[49m\n\u001b[1;32m    240\u001b[0m \u001b[43m                 \u001b[49m\u001b[43mmodel_training\u001b[49m\u001b[38;5;241;43m=\u001b[39;49m\u001b[43mmodel_training\u001b[49m\u001b[43m,\u001b[49m\u001b[43m \u001b[49m\n\u001b[1;32m    241\u001b[0m \u001b[43m                 \u001b[49m\u001b[43mloss_pred_dq\u001b[49m\u001b[38;5;241;43m=\u001b[39;49m\u001b[43mloss_pred_dq\u001b[49m\u001b[43m,\u001b[49m\u001b[43m \u001b[49m\n\u001b[1;32m    242\u001b[0m \u001b[43m                 \u001b[49m\u001b[43mloss_critic_dq\u001b[49m\u001b[38;5;241;43m=\u001b[39;49m\u001b[43mloss_critic_dq\u001b[49m\u001b[43m,\u001b[49m\u001b[43m \u001b[49m\n\u001b[1;32m    243\u001b[0m \u001b[43m                 \u001b[49m\u001b[43mloss_actor_dq\u001b[49m\u001b[38;5;241;43m=\u001b[39;49m\u001b[43mloss_actor_dq\u001b[49m\u001b[43m,\u001b[49m\u001b[43m \u001b[49m\n\u001b[1;32m    244\u001b[0m \u001b[43m                 \u001b[49m\u001b[43msteps_done\u001b[49m\u001b[38;5;241;43m=\u001b[39;49m\u001b[43msteps_done\u001b[49m\u001b[43m,\u001b[49m\u001b[43m \u001b[49m\n\u001b[1;32m    245\u001b[0m \u001b[43m                 \u001b[49m\u001b[43mlast_loss_predictor\u001b[49m\u001b[38;5;241;43m=\u001b[39;49m\u001b[43ml_loss_predictor\u001b[49m\u001b[43m[\u001b[49m\u001b[38;5;241;43m-\u001b[39;49m\u001b[38;5;241;43m1\u001b[39;49m\u001b[43m]\u001b[49m\u001b[43m,\u001b[49m\u001b[43m \u001b[49m\n\u001b[1;32m    246\u001b[0m \u001b[43m                 \u001b[49m\u001b[43mlast_loss_critic\u001b[49m\u001b[38;5;241;43m=\u001b[39;49m\u001b[43ml_loss_critic\u001b[49m\u001b[43m[\u001b[49m\u001b[38;5;241;43m-\u001b[39;49m\u001b[38;5;241;43m1\u001b[39;49m\u001b[43m]\u001b[49m\u001b[43m,\u001b[49m\u001b[43m \u001b[49m\n\u001b[1;32m    247\u001b[0m \u001b[43m                 \u001b[49m\u001b[43mtest_dataset\u001b[49m\u001b[38;5;241;43m=\u001b[39;49m\u001b[38;5;28;43;01mFalse\u001b[39;49;00m\u001b[43m)\u001b[49m\n\u001b[1;32m    248\u001b[0m     train_models(memory\u001b[38;5;241m=\u001b[39mmemory_test, \n\u001b[1;32m    249\u001b[0m                  model_training\u001b[38;5;241m=\u001b[39mmodel_training, \n\u001b[1;32m    250\u001b[0m                  loss_pred_dq\u001b[38;5;241m=\u001b[39mloss_pred_test_dq, \n\u001b[0;32m   (...)\u001b[0m\n\u001b[1;32m    255\u001b[0m                  last_loss_critic\u001b[38;5;241m=\u001b[39ml_loss_critic[\u001b[38;5;241m-\u001b[39m\u001b[38;5;241m1\u001b[39m], \n\u001b[1;32m    256\u001b[0m                  test_dataset\u001b[38;5;241m=\u001b[39m\u001b[38;5;28;01mTrue\u001b[39;00m)\n\u001b[1;32m    257\u001b[0m soft_update(hero\u001b[38;5;241m.\u001b[39mcritic\u001b[38;5;241m.\u001b[39mnet, hero\u001b[38;5;241m.\u001b[39mcritic_smooth\u001b[38;5;241m.\u001b[39mnet)\n",
      "File \u001b[0;32m/Data/augustin.kheng/MadPodRacing-enhanced-actor-critic/main.py:104\u001b[0m, in \u001b[0;36mtrain_models\u001b[0;34m(memory, model_training, loss_pred_dq, loss_critic_dq, loss_actor_dq, steps_done, last_loss_predictor, last_loss_critic, test_dataset)\u001b[0m\n\u001b[1;32m    101\u001b[0m transitions \u001b[38;5;241m=\u001b[39m memory\u001b[38;5;241m.\u001b[39msample(BATCH_SIZE)\n\u001b[1;32m    102\u001b[0m batch \u001b[38;5;241m=\u001b[39m Transition(\u001b[38;5;241m*\u001b[39m\u001b[38;5;28mzip\u001b[39m(\u001b[38;5;241m*\u001b[39mtransitions))\n\u001b[0;32m--> 104\u001b[0m loss_pred_dq\u001b[38;5;241m.\u001b[39mappend(\u001b[43moptimize_predictor\u001b[49m\u001b[43m(\u001b[49m\u001b[43mbatch\u001b[49m\u001b[43m,\u001b[49m\u001b[43m \u001b[49m\u001b[43mmodel_training\u001b[49m\u001b[38;5;241;43m.\u001b[39;49m\u001b[43mpredictor_net\u001b[49m\u001b[43m,\u001b[49m\u001b[43m \u001b[49m\u001b[43mmodel_training\u001b[49m\u001b[38;5;241;43m.\u001b[39;49m\u001b[43moptimizer_predictor\u001b[49m\u001b[43m,\u001b[49m\u001b[43m \u001b[49m\u001b[43mtest_dataset\u001b[49m\u001b[38;5;241;43m=\u001b[39;49m\u001b[43mtest_dataset\u001b[49m\u001b[43m)\u001b[49m\u001b[38;5;241m.\u001b[39mclone()\u001b[38;5;241m.\u001b[39mdetach()\u001b[38;5;241m.\u001b[39mto(\u001b[38;5;124m'\u001b[39m\u001b[38;5;124mcpu\u001b[39m\u001b[38;5;124m'\u001b[39m))\n\u001b[1;32m    105\u001b[0m loss_critic_dq\u001b[38;5;241m.\u001b[39mappend(optimize_critic(batch, model_training\u001b[38;5;241m.\u001b[39mhero\u001b[38;5;241m.\u001b[39mcritic\u001b[38;5;241m.\u001b[39mnet, model_training\u001b[38;5;241m.\u001b[39mhero\u001b[38;5;241m.\u001b[39mcritic_smooth\u001b[38;5;241m.\u001b[39mnet, model_training\u001b[38;5;241m.\u001b[39moptimizer_critic, test_dataset\u001b[38;5;241m=\u001b[39mtest_dataset, GAMMA\u001b[38;5;241m=\u001b[39mgamma(steps_done))\u001b[38;5;241m.\u001b[39mclone()\u001b[38;5;241m.\u001b[39mdetach()\u001b[38;5;241m.\u001b[39mto(\u001b[38;5;124m'\u001b[39m\u001b[38;5;124mcpu\u001b[39m\u001b[38;5;124m'\u001b[39m))\n\u001b[1;32m    107\u001b[0m \u001b[38;5;28;01mif\u001b[39;00m last_loss_predictor\u001b[38;5;241m<\u001b[39m\u001b[38;5;241m=\u001b[39m\u001b[38;5;241m1\u001b[39m\u001b[38;5;241m*\u001b[39m(\u001b[38;5;241m1\u001b[39m\u001b[38;5;241m-\u001b[39mrandom\u001b[38;5;241m.\u001b[39mrand()) \u001b[38;5;129;01mand\u001b[39;00m last_loss_critic\u001b[38;5;241m<\u001b[39m\u001b[38;5;241m=\u001b[39m\u001b[38;5;241m5\u001b[39m\u001b[38;5;241m*\u001b[39m(\u001b[38;5;241m1\u001b[39m\u001b[38;5;241m-\u001b[39mrandom\u001b[38;5;241m.\u001b[39mrand()):\n",
      "File \u001b[0;32m/Data/augustin.kheng/MadPodRacing-enhanced-actor-critic/training_utils/actor_critic.py:27\u001b[0m, in \u001b[0;36moptimize_predictor\u001b[0;34m(batch, predictor_net, optimizer_predictor, test_dataset)\u001b[0m\n\u001b[1;32m     25\u001b[0m \u001b[38;5;28;01mdef\u001b[39;00m \u001b[38;5;21moptimize_predictor\u001b[39m(batch, predictor_net, optimizer_predictor, test_dataset):\n\u001b[1;32m     26\u001b[0m     state_batch \u001b[38;5;241m=\u001b[39m torch\u001b[38;5;241m.\u001b[39mcat(batch\u001b[38;5;241m.\u001b[39mstate)  \n\u001b[0;32m---> 27\u001b[0m     action_J1_batch \u001b[38;5;241m=\u001b[39m \u001b[43mtorch\u001b[49m\u001b[38;5;241;43m.\u001b[39;49m\u001b[43mcat\u001b[49m\u001b[43m(\u001b[49m\u001b[43mbatch\u001b[49m\u001b[38;5;241;43m.\u001b[39;49m\u001b[43maction_J1\u001b[49m\u001b[43m)\u001b[49m\n\u001b[1;32m     28\u001b[0m     action_J2_batch \u001b[38;5;241m=\u001b[39m torch\u001b[38;5;241m.\u001b[39mcat(batch\u001b[38;5;241m.\u001b[39maction_J2)\n\u001b[1;32m     30\u001b[0m     real_next_state \u001b[38;5;241m=\u001b[39m torch\u001b[38;5;241m.\u001b[39mcat(batch\u001b[38;5;241m.\u001b[39mnext_state)[:, \u001b[38;5;241m20\u001b[39m:]\n",
      "\u001b[0;31mKeyboardInterrupt\u001b[0m: "
     ]
    }
   ],
   "source": [
    "from main import main\n",
    "\n",
    "main()"
   ]
  }
 ],
 "metadata": {
  "kernelspec": {
   "display_name": "Python 3",
   "language": "python",
   "name": "python3"
  },
  "language_info": {
   "codemirror_mode": {
    "name": "ipython",
    "version": 3
   },
   "file_extension": ".py",
   "mimetype": "text/x-python",
   "name": "python",
   "nbconvert_exporter": "python",
   "pygments_lexer": "ipython3",
   "version": "3.11.10"
  }
 },
 "nbformat": 4,
 "nbformat_minor": 2
}
